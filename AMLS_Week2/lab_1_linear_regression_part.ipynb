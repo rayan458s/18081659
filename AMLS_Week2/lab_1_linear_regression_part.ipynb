{
 "cells": [
  {
   "cell_type": "markdown",
   "metadata": {},
   "source": [
    "#  Lab 1: Regression \n",
    "## Simple Linear Regression"
   ]
  },
  {
   "cell_type": "markdown",
   "metadata": {},
   "source": [
    "In this notebook we are going to implement simple (one input) linear regression. You will be provided with some already complete code as well as some code that you should complete yourself. In particular, you will have to:\n",
    "* Complete the function `paramEstimates` to implement linear regression algorithm.\n",
    "* Complete the function `linearRegrNEWPredict` to implement linear regression algorithm.\n",
    "* Complete the function `SSR` to compute the sum of squared residuals.\n",
    "\n"
   ]
  },
  {
   "cell_type": "markdown",
   "metadata": {},
   "source": [
    "# Import libraries"
   ]
  },
  {
   "cell_type": "markdown",
   "metadata": {},
   "source": [
    "The required libraries for this notebook are pandas, sklearn, numpy and matplotlib."
   ]
  },
  {
   "cell_type": "code",
   "execution_count": 1,
   "metadata": {},
   "outputs": [],
   "source": [
    "import pandas\n",
    "from sklearn.model_selection import train_test_split\n",
    "from sklearn.linear_model import LinearRegression\n",
    "import numpy as np\n",
    "import matplotlib.pyplot as plt\n",
    "from sklearn import datasets, linear_model\n",
    "from sklearn.metrics import mean_squared_error, r2_score"
   ]
  },
  {
   "cell_type": "markdown",
   "metadata": {},
   "source": [
    "# Load the data\n",
    "The data we are using is from ***regression data.csv***. It consists of 260 data points related to house prices where each data point has 9 features."
   ]
  },
  {
   "cell_type": "code",
   "execution_count": 2,
   "metadata": {},
   "outputs": [],
   "source": [
    "# Loading the CSV file\n",
    "houseprice=pandas.read_csv('./datasets/regression_data.csv')\n",
    "houseprice=houseprice[['Price (Older)', 'Price (New)']] # Choose 2 columns \n"
   ]
  },
  {
   "cell_type": "markdown",
   "metadata": {},
   "source": [
    "# Split data into training and testing"
   ]
  },
  {
   "cell_type": "code",
   "execution_count": 3,
   "metadata": {},
   "outputs": [],
   "source": [
    "# Split the data\n",
    "X=houseprice[['Price (Older)']]\n",
    "Y=houseprice[['Price (New)']]\n",
    "\n",
    "# Split the data into training and testing(75% training and 25% testing data)\n",
    "xTrain,xTest,yTrain,yTest=train_test_split(X,Y)\n"
   ]
  },
  {
   "cell_type": "markdown",
   "metadata": {},
   "source": [
    "# Use simple linear regression from a library"
   ]
  },
  {
   "cell_type": "markdown",
   "metadata": {},
   "source": [
    "We will first see how simple linear regression can be implemented using built-in functions from the scikit-learn library."
   ]
  },
  {
   "cell_type": "code",
   "execution_count": 4,
   "metadata": {},
   "outputs": [
    {
     "data": {
      "image/png": "[encoded data removed]",
      "text/plain": [
       "<Figure size 432x288 with 1 Axes>"
      ]
     },
     "metadata": {
      "needs_background": "light"
     },
     "output_type": "display_data"
    }
   ],
   "source": [
    "# sklearn functions implementation\n",
    "def linearRegrPredict(xTrain, yTrain,xTest ):\n",
    "    # Create linear regression object\n",
    "    regr=LinearRegression()\n",
    "    # Train the model using the training sets\n",
    "    regr.fit(xTrain,yTrain)\n",
    "    # Make predictions using the testing set\n",
    "    y_pred = regr.predict(xTest)\n",
    "    #print(\"Accuracy Score:\",regr.score(xTest,yTest))\n",
    "    return y_pred\n",
    "\n",
    "\n",
    "y_pred = linearRegrPredict(xTrain, yTrain, xTest)\n",
    "\n",
    "\n",
    "# Plot testing set predictions\n",
    "plt.scatter(xTest, yTest)\n",
    "plt.plot(xTest, y_pred, 'r-')\n",
    "plt.show()\n",
    "\n"
   ]
  },
  {
   "cell_type": "markdown",
   "metadata": {},
   "source": [
    "# Implement your own simple linear regression function "
   ]
  },
  {
   "cell_type": "markdown",
   "metadata": {},
   "source": [
    "\n",
    "You will be given the `paramEstimates(xTrain, yTrain)` function that estimates the linear regression parameters alpha and beta as follows:\n",
    "\\begin{align}\n",
    "\\hat{\\beta} & =  \\frac{\\sum_{i=1}^n x_i\\left(y_i - \\bar{y} \\right)}{\\sum_{i=1}^n x_i\\left(x_i - \\bar{x} \\right)}\\\\\n",
    "\\hat{\\alpha} & = \\bar{y}-\\hat{\\beta}\\bar{x}\n",
    "\\end{align}\n",
    "\n",
    "You have, however, to complete the `linearRegrNEWPredict(xTrain, yTrain, xTest)` function, or write your own, that returns the output variable y given the input x as follows: \n",
    "\\begin{align}\n",
    "\\hat{y} & = \\hat{\\alpha}+\\hat{\\beta}x\n",
    "\\end{align}\n",
    "\n",
    "***Remember that we train on `xTrain` and `yTrain`!***"
   ]
  },
  {
   "cell_type": "code",
   "execution_count": 5,
   "metadata": {},
   "outputs": [],
   "source": [
    "# Transform dataframes to numpy arrays\n",
    "xTrain1=np.array(xTrain.values).flatten()\n",
    "xTest1=np.array(xTest.values).flatten()\n",
    "yTrain1=np.array(yTrain.values).flatten()\n",
    "yTest1=np.array(yTest.values).flatten()\n"
   ]
  },
  {
   "cell_type": "code",
   "execution_count": 6,
   "metadata": {},
   "outputs": [
    {
     "name": "stdout",
     "output_type": "stream",
     "text": [
      "17196.841575063438\n",
      "0.9334532442799336\n"
     ]
    },
    {
     "ename": "NameError",
     "evalue": "name 'y_pred1' is not defined",
     "output_type": "error",
     "traceback": [
      "\u001B[0;31m---------------------------------------------------------------------------\u001B[0m",
      "\u001B[0;31mNameError\u001B[0m                                 Traceback (most recent call last)",
      "\u001B[0;32m<ipython-input-6-ae9d6860775c>\u001B[0m in \u001B[0;36m<module>\u001B[0;34m\u001B[0m\n\u001B[1;32m     13\u001B[0m \u001B[0;34m\u001B[0m\u001B[0m\n\u001B[1;32m     14\u001B[0m \u001B[0;34m\u001B[0m\u001B[0m\n\u001B[0;32m---> 15\u001B[0;31m \u001B[0my_pred1\u001B[0m\u001B[0;34m=\u001B[0m\u001B[0mlinearRegrNEWPredict\u001B[0m\u001B[0;34m(\u001B[0m\u001B[0mxTrain1\u001B[0m\u001B[0;34m,\u001B[0m \u001B[0myTrain1\u001B[0m\u001B[0;34m,\u001B[0m\u001B[0mxTest1\u001B[0m\u001B[0;34m)\u001B[0m\u001B[0;34m\u001B[0m\u001B[0;34m\u001B[0m\u001B[0m\n\u001B[0m\u001B[1;32m     16\u001B[0m \u001B[0;31m#print (y_pred1)\u001B[0m\u001B[0;34m\u001B[0m\u001B[0;34m\u001B[0m\u001B[0;34m\u001B[0m\u001B[0m\n\u001B[1;32m     17\u001B[0m \u001B[0;34m\u001B[0m\u001B[0m\n",
      "\u001B[0;32m<ipython-input-6-ae9d6860775c>\u001B[0m in \u001B[0;36mlinearRegrNEWPredict\u001B[0;34m(xTrain, yTrain, xTest)\u001B[0m\n\u001B[1;32m     10\u001B[0m     \u001B[0mprint\u001B[0m\u001B[0;34m(\u001B[0m\u001B[0mbeta\u001B[0m\u001B[0;34m)\u001B[0m\u001B[0;34m\u001B[0m\u001B[0;34m\u001B[0m\u001B[0m\n\u001B[1;32m     11\u001B[0m     \u001B[0;31m#y_pred1 = ...\u001B[0m\u001B[0;34m\u001B[0m\u001B[0;34m\u001B[0m\u001B[0;34m\u001B[0m\u001B[0m\n\u001B[0;32m---> 12\u001B[0;31m     \u001B[0;32mreturn\u001B[0m \u001B[0my_pred1\u001B[0m\u001B[0;34m\u001B[0m\u001B[0;34m\u001B[0m\u001B[0m\n\u001B[0m\u001B[1;32m     13\u001B[0m \u001B[0;34m\u001B[0m\u001B[0m\n\u001B[1;32m     14\u001B[0m \u001B[0;34m\u001B[0m\u001B[0m\n",
      "\u001B[0;31mNameError\u001B[0m: name 'y_pred1' is not defined"
     ]
    }
   ],
   "source": [
    "def paramEstimates(xTrain, yTrain):\n",
    "    beta = np.sum(np.multiply(xTrain,(np.add(yTrain, -np.mean(yTrain))))) / np.sum(np.multiply(xTrain, (np.add(xTrain, - np.mean(xTrain)))))\n",
    "    \n",
    "    # Complete the code here.\n",
    "\n",
    "    # alpha = ...\n",
    "    return alpha, beta0\n",
    "\n",
    "\n",
    "def linearRegrNEWPredict(xTrain, yTrain,xTest):\n",
    "    alpha, beta = paramEstimates(xTrain, yTrain)\n",
    "    print (alpha)\n",
    "    print(beta)\n",
    "    # Complete the code here.\n",
    "    #y_pred1 = ...\n",
    "    return y_pred1\n",
    "\n",
    " \n",
    "y_pred1=linearRegrNEWPredict(xTrain1, yTrain1,xTest1)\n",
    "\n",
    "\n",
    "#Plot testing set predictions\n",
    "plt.scatter(xTest, yTest)\n",
    "plt.plot(xTest1, y_pred1, 'r-')\n",
    "plt.show()\n",
    "\n"
   ]
  },
  {
   "cell_type": "markdown",
   "metadata": {},
   "source": [
    "# Sum of Squared Residuals"
   ]
  },
  {
   "cell_type": "markdown",
   "metadata": {},
   "source": [
    "You are now asked to write a simple function `SSR(y, y_pred)` that computes the sum of the squared\n",
    "residuals (SSR). Remember that the SSR is the sum of the squares of the difference between the predicted outputs \\\\(\\hat{y_i}\\\\) and the true output \\\\(y_i\\\\), as follows:\n",
    "\\begin{align}\n",
    "SSR\\left(y_i,\\hat{y_i} \\right) & =  \\sum_{i=1}^n \\left(y_i - \\hat{y_i} \\right)^2\\\\\n",
    "\\end{align}\n",
    "Complete the following (or write your own) function to compute the SSR associated with the predictions delivered by your own or the library's implementation of simple linear regression."
   ]
  },
  {
   "cell_type": "code",
   "execution_count": null,
   "metadata": {
    "scrolled": true
   },
   "outputs": [],
   "source": [
    "def SSR(yTest, y_pred):\n",
    "    # Complete the code here.\n",
    "    #ssr = ...\n",
    "    return ssr\n",
    "\n",
    "y_pred_SSR = SSR(yTest,y_pred)\n",
    "y_pred1_SSR = SSR(yTest1,y_pred1)\n",
    "\n",
    "print(\"Scikit-learn linear regression SSR: %.4f\" % y_pred_SSR)\n",
    "print(\"Our implementation of linear regression SSR: %.4f\" % y_pred1_SSR)\n"
   ]
  },
  {
   "cell_type": "code",
   "execution_count": null,
   "metadata": {
    "pycharm": {
     "name": "#%%\n"
    }
   },
   "outputs": [],
   "source": []
  },
  {
   "cell_type": "code",
   "execution_count": null,
   "metadata": {},
   "outputs": [],
   "source": []
  },
  {
   "cell_type": "code",
   "execution_count": null,
   "metadata": {},
   "outputs": [],
   "source": []
  }
 ],
 "metadata": {
  "anaconda-cloud": {},
  "kernelspec": {
   "display_name": "Python 3",
   "language": "python",
   "name": "python3"
  },
  "language_info": {
   "codemirror_mode": {
    "name": "ipython",
    "version": 3
   },
   "file_extension": ".py",
   "mimetype": "text/x-python",
   "name": "python",
   "nbconvert_exporter": "python",
   "pygments_lexer": "ipython3",
   "version": "3.8.5"
  }
 },
 "nbformat": 4,
 "nbformat_minor": 1
}